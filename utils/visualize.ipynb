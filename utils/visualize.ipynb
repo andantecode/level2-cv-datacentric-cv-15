{
 "cells": [
  {
   "cell_type": "code",
   "execution_count": null,
   "metadata": {},
   "outputs": [],
   "source": [
    "import json\n",
    "import cv2\n",
    "import os\n",
    "import matplotlib.pyplot as plt\n",
    "\n",
    "# JSON 파일과 이미지 폴더 경로 설정\n",
    "json_path = '/data/ephemeral/utils/120epoch.json'\n",
    "base_image_folder = '/data/ephemeral/data/'\n",
    "\n",
    "# JSON 파일 로드\n",
    "with open(json_path, 'r', encoding='utf-8') as f:\n",
    "    data = json.load(f)\n",
    "\n",
    "# 언어별 폴더 순회\n",
    "languages = ['chinese_receipt', 'japanese_receipt', 'thai_receipt', 'vietnamese_receipt']\n",
    "for lang in languages:\n",
    "    image_folder = os.path.join(base_image_folder, lang, 'img', 'test')\n",
    "    \n",
    "    # 각 언어별 이미지 5장만 표시\n",
    "    displayed_count = 0\n",
    "    for image_file in os.listdir(image_folder):\n",
    "        if displayed_count >= 5:\n",
    "            break  # 언어별로 최대 5장만 표시\n",
    "\n",
    "        image_path = os.path.join(image_folder, image_file)\n",
    "\n",
    "        # 이미지 파일명만 추출하여 JSON에서 찾기\n",
    "        if image_file not in data['images']:\n",
    "            continue  # JSON에 없는 이미지는 넘어감\n",
    "        \n",
    "        # 이미지 로드\n",
    "        image = cv2.imread(image_path)\n",
    "        image_rgb = cv2.cvtColor(image, cv2.COLOR_BGR2RGB)\n",
    "\n",
    "        # JSON 데이터 가져오기\n",
    "        image_data = data['images'][image_file]['words']\n",
    "\n",
    "        # 이미지 시각화\n",
    "        plt.figure(figsize=(10, 10))\n",
    "        plt.imshow(image_rgb)\n",
    "\n",
    "        # 각 BBox를 이미지 위에 겹쳐 표시\n",
    "        for word_id, word_info in image_data.items():\n",
    "            points = word_info['points']\n",
    "            \n",
    "            # 각 점을 순서대로 연결하여 BBox 그리기\n",
    "            x_coords = [p[0] for p in points] + [points[0][0]]  # 시작점으로 돌아와서 사각형을 닫음\n",
    "            y_coords = [p[1] for p in points] + [points[0][1]]\n",
    "            plt.plot(x_coords, y_coords, color='red')\n",
    "\n",
    "        plt.axis('off')\n",
    "        plt.show()\n",
    "\n",
    "        # 표시된 이미지 카운트 증가\n",
    "        displayed_count += 1\n"
   ]
  },
  {
   "cell_type": "code",
   "execution_count": null,
   "metadata": {},
   "outputs": [],
   "source": []
  }
 ],
 "metadata": {
  "kernelspec": {
   "display_name": "base",
   "language": "python",
   "name": "python3"
  },
  "language_info": {
   "codemirror_mode": {
    "name": "ipython",
    "version": 3
   },
   "file_extension": ".py",
   "mimetype": "text/x-python",
   "name": "python",
   "nbconvert_exporter": "python",
   "pygments_lexer": "ipython3",
   "version": "3.10.13"
  }
 },
 "nbformat": 4,
 "nbformat_minor": 2
}
